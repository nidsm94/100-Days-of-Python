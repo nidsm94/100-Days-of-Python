{
 "cells": [
  {
   "cell_type": "markdown",
   "id": "fa9050fc",
   "metadata": {},
   "source": [
    "# This is Day 1 "
   ]
  },
  {
   "cell_type": "code",
   "execution_count": 3,
   "id": "920c83bb",
   "metadata": {},
   "outputs": [
    {
     "name": "stdout",
     "output_type": "stream",
     "text": [
      "Welcome to the Band Name Generator\n",
      "What's the name of the city you grew up in?\n",
      "mysore\n",
      "what's your pet name?\n",
      "cat\n",
      "Your band name could be  mysore cat\n"
     ]
    }
   ],
   "source": [
    "print(\"Welcome to the Band Name Generator\")\n",
    "print(\"What's the name of the city you grew up in?\")\n",
    "city = input()\n",
    "print(\"what's your pet name?\")\n",
    "petName = input()\n",
    "print(\"Your band name could be \", city + \" \" + petName)"
   ]
  },
  {
   "cell_type": "markdown",
   "id": "45553eda",
   "metadata": {},
   "source": [
    "# This is Day 2"
   ]
  },
  {
   "cell_type": "code",
   "execution_count": 5,
   "id": "b0cf2939",
   "metadata": {},
   "outputs": [
    {
     "name": "stdout",
     "output_type": "stream",
     "text": [
      "1.62\n",
      "72\n",
      "27.43484224965706\n"
     ]
    }
   ],
   "source": [
    "height = input()\n",
    "# 2nd input: enter weight in kilograms e.g: 72\n",
    "weight = input()\n",
    "# 🚨 Don't change the code above 👆\n",
    "\n",
    "# Write your code below this line 👇\n",
    "hei = float(height)\n",
    "wei = int(weight)\n",
    "BMI = wei /( hei ** 2)\n",
    "print(BMI)"
   ]
  },
  {
   "cell_type": "code",
   "execution_count": 8,
   "id": "6a3bc71a",
   "metadata": {},
   "outputs": [
    {
     "data": {
      "text/plain": [
       "25"
      ]
     },
     "execution_count": 8,
     "metadata": {},
     "output_type": "execute_result"
    }
   ],
   "source": [
    "5*5"
   ]
  },
  {
   "cell_type": "code",
   "execution_count": 9,
   "id": "540a3d0a",
   "metadata": {},
   "outputs": [
    {
     "data": {
      "text/plain": [
       "2.6244000000000005"
      ]
     },
     "execution_count": 9,
     "metadata": {},
     "output_type": "execute_result"
    }
   ],
   "source": [
    "hei ** 2"
   ]
  },
  {
   "cell_type": "code",
   "execution_count": 11,
   "id": "a43ba95c",
   "metadata": {},
   "outputs": [
    {
     "name": "stdout",
     "output_type": "stream",
     "text": [
      "53\n",
      "You have 1924 weeks left\n"
     ]
    }
   ],
   "source": [
    "age = input()\n",
    "yearsleft = 90 - int(age)\n",
    "leftWeeks = yearsleft * 52\n",
    "print(f\"You have {leftWeeks} weeks left\")"
   ]
  },
  {
   "cell_type": "code",
   "execution_count": 12,
   "id": "b675e480",
   "metadata": {},
   "outputs": [
    {
     "name": "stdout",
     "output_type": "stream",
     "text": [
      "Welcome to Tip Calculator\n",
      "What was the total bill? Rs \n",
      "2000\n",
      "What percentage of tip would you like to give? 10, 12, or 15?\n",
      "10\n",
      "How many people to split the bill?\n",
      "4\n",
      "Each Person should Pay: 550.0\n"
     ]
    }
   ],
   "source": [
    "#Tip Calculator\n",
    "print(\"Welcome to Tip Calculator\")\n",
    "print(\"What was the total bill? Rs \")\n",
    "Bill = float(input())\n",
    "print(\"What percentage of tip would you like to give? 10, 12, or 15?\")\n",
    "tipPercent = int(input())\n",
    "print(\"How many people to split the bill?\")\n",
    "people = int(input())\n",
    "totalTip = tipPercent / 100 * Bill\n",
    "totalBillWithTip = totalTip + Bill\n",
    "billPerPerson = totalBillWithTip / people\n",
    "finalAmt = round(billPerPerson,2)\n",
    "print(f\"Each Person should Pay: {finalAmt}\")"
   ]
  },
  {
   "cell_type": "code",
   "execution_count": null,
   "id": "ca842e42",
   "metadata": {},
   "outputs": [],
   "source": []
  }
 ],
 "metadata": {
  "kernelspec": {
   "display_name": "Python 3 (ipykernel)",
   "language": "python",
   "name": "python3"
  },
  "language_info": {
   "codemirror_mode": {
    "name": "ipython",
    "version": 3
   },
   "file_extension": ".py",
   "mimetype": "text/x-python",
   "name": "python",
   "nbconvert_exporter": "python",
   "pygments_lexer": "ipython3",
   "version": "3.11.3"
  }
 },
 "nbformat": 4,
 "nbformat_minor": 5
}
